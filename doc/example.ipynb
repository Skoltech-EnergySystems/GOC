{
 "cells": [
  {
   "cell_type": "code",
   "execution_count": null,
   "metadata": {},
   "outputs": [],
   "source": [
    "# Julia 1.1.0\n",
    "\n",
    "# Path = splitpath(pwd())\n",
    "# i = findlast(s -> s == \"GOC\", Path)\n",
    "# proj_path = joinpath(Path[1:i]...)\n",
    "\n",
    "# code_path = joinpath(proj_path, \"src\")\n",
    "# cd(code_path)"
   ]
  },
  {
   "cell_type": "code",
   "execution_count": 1,
   "metadata": {},
   "outputs": [],
   "source": [
    "# Julia 1.0 and older\n",
    "\n",
    "cur_path, goc = splitdir(pwd())\n",
    "while goc != \"GOC\"\n",
    "    cur_path, goc = splitdir(cur_path)\n",
    "end\n",
    "proj_path = joinpath(cur_path, goc);\n",
    "code_path = joinpath(proj_path, \"src\");"
   ]
  },
  {
   "cell_type": "code",
   "execution_count": 2,
   "metadata": {},
   "outputs": [
    {
     "data": {
      "text/plain": [
       "\"/Users/ivan/Documents/PhD/GOC/src\""
      ]
     },
     "execution_count": 2,
     "metadata": {},
     "output_type": "execute_result"
    }
   ],
   "source": [
    "code_path"
   ]
  },
  {
   "cell_type": "code",
   "execution_count": 3,
   "metadata": {},
   "outputs": [],
   "source": [
    "using Revise\n",
    "includet(joinpath(code_path, \"main.jl\") )\n",
    "Revise.track(joinpath(code_path , \"main.jl\"))"
   ]
  },
  {
   "cell_type": "code",
   "execution_count": 6,
   "metadata": {},
   "outputs": [],
   "source": [
    "# if does not work at first time, run it again without any changes\n",
    "PN, mainData, costsData, continData = main();"
   ]
  },
  {
   "cell_type": "markdown",
   "metadata": {},
   "source": [
    "## data from .raw file splitted into sources \n",
    "\n",
    "### variable mainData"
   ]
  },
  {
   "cell_type": "code",
   "execution_count": 7,
   "metadata": {},
   "outputs": [
    {
     "data": {
      "text/html": [
       "<table class=\"data-frame\"><thead><tr><th></th><th>I</th><th>NAME</th><th>BASKV</th><th>IDE</th><th>AREA</th><th>ZONE</th><th>OWNER</th><th>VM</th><th>VA</th><th>NVHI</th><th>NVLO</th><th>EVHI</th><th>EVLO</th></tr><tr><th></th><th>Int64</th><th>String</th><th>Float16</th><th>Float16</th><th>Int64</th><th>Float16</th><th>Float16</th><th>Float16</th><th>Float16</th><th>Float16</th><th>Float16</th><th>Float16</th><th>Float16</th></tr></thead><tbody><p>5 rows × 13 columns</p><tr><th>1</th><td>1</td><td>''</td><td>138.0</td><td>1.0</td><td>1</td><td>1.0</td><td>1.0</td><td>1.0205</td><td>-94.8</td><td>1.1</td><td>0.9</td><td>1.1</td><td>0.9</td></tr><tr><th>2</th><td>2</td><td>''</td><td>138.0</td><td>1.0</td><td>1</td><td>1.0</td><td>1.0</td><td>1.0205</td><td>-94.8</td><td>1.1</td><td>0.9</td><td>1.1</td><td>0.9</td></tr><tr><th>3</th><td>3</td><td>''</td><td>138.0</td><td>1.0</td><td>1</td><td>1.0</td><td>1.0</td><td>1.019</td><td>-97.06</td><td>1.1</td><td>0.9</td><td>1.1</td><td>0.9</td></tr><tr><th>4</th><td>4</td><td>''</td><td>138.0</td><td>1.0</td><td>1</td><td>1.0</td><td>1.0</td><td>1.017</td><td>-97.25</td><td>1.1</td><td>0.9</td><td>1.1</td><td>0.9</td></tr><tr><th>5</th><td>5</td><td>''</td><td>138.0</td><td>1.0</td><td>1</td><td>1.0</td><td>1.0</td><td>0.989</td><td>-59.78</td><td>1.1</td><td>0.9</td><td>1.1</td><td>0.9</td></tr></tbody></table>"
      ],
      "text/latex": [
       "\\begin{tabular}{r|ccccccccccccc}\n",
       "\t& I & NAME & BASKV & IDE & AREA & ZONE & OWNER & VM & VA & NVHI & NVLO & EVHI & EVLO\\\\\n",
       "\t\\hline\n",
       "\t& Int64 & String & Float16 & Float16 & Int64 & Float16 & Float16 & Float16 & Float16 & Float16 & Float16 & Float16 & Float16\\\\\n",
       "\t\\hline\n",
       "\t1 & 1 & '' & 138.0 & 1.0 & 1 & 1.0 & 1.0 & 1.0205 & -94.8 & 1.1 & 0.9 & 1.1 & 0.9 \\\\\n",
       "\t2 & 2 & '' & 138.0 & 1.0 & 1 & 1.0 & 1.0 & 1.0205 & -94.8 & 1.1 & 0.9 & 1.1 & 0.9 \\\\\n",
       "\t3 & 3 & '' & 138.0 & 1.0 & 1 & 1.0 & 1.0 & 1.019 & -97.06 & 1.1 & 0.9 & 1.1 & 0.9 \\\\\n",
       "\t4 & 4 & '' & 138.0 & 1.0 & 1 & 1.0 & 1.0 & 1.017 & -97.25 & 1.1 & 0.9 & 1.1 & 0.9 \\\\\n",
       "\t5 & 5 & '' & 138.0 & 1.0 & 1 & 1.0 & 1.0 & 0.989 & -59.78 & 1.1 & 0.9 & 1.1 & 0.9 \\\\\n",
       "\\end{tabular}\n"
      ],
      "text/plain": [
       "5×13 DataFrame. Omitted printing of 6 columns\n",
       "│ Row │ I     │ NAME   │ BASKV   │ IDE     │ AREA  │ ZONE    │ OWNER   │\n",
       "│     │ \u001b[90mInt64\u001b[39m │ \u001b[90mString\u001b[39m │ \u001b[90mFloat16\u001b[39m │ \u001b[90mFloat16\u001b[39m │ \u001b[90mInt64\u001b[39m │ \u001b[90mFloat16\u001b[39m │ \u001b[90mFloat16\u001b[39m │\n",
       "├─────┼───────┼────────┼─────────┼─────────┼───────┼─────────┼─────────┤\n",
       "│ 1   │ 1     │ ''     │ 138.0   │ 1.0     │ 1     │ 1.0     │ 1.0     │\n",
       "│ 2   │ 2     │ ''     │ 138.0   │ 1.0     │ 1     │ 1.0     │ 1.0     │\n",
       "│ 3   │ 3     │ ''     │ 138.0   │ 1.0     │ 1     │ 1.0     │ 1.0     │\n",
       "│ 4   │ 4     │ ''     │ 138.0   │ 1.0     │ 1     │ 1.0     │ 1.0     │\n",
       "│ 5   │ 5     │ ''     │ 138.0   │ 1.0     │ 1     │ 1.0     │ 1.0     │"
      ]
     },
     "execution_count": 7,
     "metadata": {},
     "output_type": "execute_result"
    }
   ],
   "source": [
    "# Bus data\n",
    "first(mainData.bus, 5)"
   ]
  },
  {
   "cell_type": "code",
   "execution_count": 8,
   "metadata": {},
   "outputs": [
    {
     "data": {
      "text/html": [
       "<table class=\"data-frame\"><thead><tr><th></th><th>I</th><th>NAME</th><th>BASKV</th><th>IDE</th><th>AREA</th><th>ZONE</th><th>OWNER</th><th>VM</th><th>VA</th><th>NVHI</th><th>NVLO</th><th>EVHI</th><th>EVLO</th></tr><tr><th></th><th>Int64</th><th>String</th><th>Float16</th><th>Float16</th><th>Int64</th><th>Float16</th><th>Float16</th><th>Float16</th><th>Float16</th><th>Float16</th><th>Float16</th><th>Float16</th><th>Float16</th></tr></thead><tbody><p>5 rows × 13 columns</p><tr><th>1</th><td>1</td><td>''</td><td>138.0</td><td>1.0</td><td>1</td><td>1.0</td><td>1.0</td><td>1.0205</td><td>-94.8</td><td>1.1</td><td>0.9</td><td>1.1</td><td>0.9</td></tr><tr><th>2</th><td>2</td><td>''</td><td>138.0</td><td>1.0</td><td>1</td><td>1.0</td><td>1.0</td><td>1.0205</td><td>-94.8</td><td>1.1</td><td>0.9</td><td>1.1</td><td>0.9</td></tr><tr><th>3</th><td>3</td><td>''</td><td>138.0</td><td>1.0</td><td>1</td><td>1.0</td><td>1.0</td><td>1.019</td><td>-97.06</td><td>1.1</td><td>0.9</td><td>1.1</td><td>0.9</td></tr><tr><th>4</th><td>4</td><td>''</td><td>138.0</td><td>1.0</td><td>1</td><td>1.0</td><td>1.0</td><td>1.017</td><td>-97.25</td><td>1.1</td><td>0.9</td><td>1.1</td><td>0.9</td></tr><tr><th>5</th><td>5</td><td>''</td><td>138.0</td><td>1.0</td><td>1</td><td>1.0</td><td>1.0</td><td>0.989</td><td>-59.78</td><td>1.1</td><td>0.9</td><td>1.1</td><td>0.9</td></tr></tbody></table>"
      ],
      "text/latex": [
       "\\begin{tabular}{r|ccccccccccccc}\n",
       "\t& I & NAME & BASKV & IDE & AREA & ZONE & OWNER & VM & VA & NVHI & NVLO & EVHI & EVLO\\\\\n",
       "\t\\hline\n",
       "\t& Int64 & String & Float16 & Float16 & Int64 & Float16 & Float16 & Float16 & Float16 & Float16 & Float16 & Float16 & Float16\\\\\n",
       "\t\\hline\n",
       "\t1 & 1 & '' & 138.0 & 1.0 & 1 & 1.0 & 1.0 & 1.0205 & -94.8 & 1.1 & 0.9 & 1.1 & 0.9 \\\\\n",
       "\t2 & 2 & '' & 138.0 & 1.0 & 1 & 1.0 & 1.0 & 1.0205 & -94.8 & 1.1 & 0.9 & 1.1 & 0.9 \\\\\n",
       "\t3 & 3 & '' & 138.0 & 1.0 & 1 & 1.0 & 1.0 & 1.019 & -97.06 & 1.1 & 0.9 & 1.1 & 0.9 \\\\\n",
       "\t4 & 4 & '' & 138.0 & 1.0 & 1 & 1.0 & 1.0 & 1.017 & -97.25 & 1.1 & 0.9 & 1.1 & 0.9 \\\\\n",
       "\t5 & 5 & '' & 138.0 & 1.0 & 1 & 1.0 & 1.0 & 0.989 & -59.78 & 1.1 & 0.9 & 1.1 & 0.9 \\\\\n",
       "\\end{tabular}\n"
      ],
      "text/plain": [
       "5×13 DataFrame. Omitted printing of 6 columns\n",
       "│ Row │ I     │ NAME   │ BASKV   │ IDE     │ AREA  │ ZONE    │ OWNER   │\n",
       "│     │ \u001b[90mInt64\u001b[39m │ \u001b[90mString\u001b[39m │ \u001b[90mFloat16\u001b[39m │ \u001b[90mFloat16\u001b[39m │ \u001b[90mInt64\u001b[39m │ \u001b[90mFloat16\u001b[39m │ \u001b[90mFloat16\u001b[39m │\n",
       "├─────┼───────┼────────┼─────────┼─────────┼───────┼─────────┼─────────┤\n",
       "│ 1   │ 1     │ ''     │ 138.0   │ 1.0     │ 1     │ 1.0     │ 1.0     │\n",
       "│ 2   │ 2     │ ''     │ 138.0   │ 1.0     │ 1     │ 1.0     │ 1.0     │\n",
       "│ 3   │ 3     │ ''     │ 138.0   │ 1.0     │ 1     │ 1.0     │ 1.0     │\n",
       "│ 4   │ 4     │ ''     │ 138.0   │ 1.0     │ 1     │ 1.0     │ 1.0     │\n",
       "│ 5   │ 5     │ ''     │ 138.0   │ 1.0     │ 1     │ 1.0     │ 1.0     │"
      ]
     },
     "execution_count": 8,
     "metadata": {},
     "output_type": "execute_result"
    }
   ],
   "source": [
    "# Load data\n",
    "first(mainData.bus, 5)"
   ]
  },
  {
   "cell_type": "code",
   "execution_count": 9,
   "metadata": {},
   "outputs": [
    {
     "data": {
      "text/html": [
       "<table class=\"data-frame\"><thead><tr><th></th><th>I</th><th>ID</th><th>STATUS</th><th>GL</th><th>BL</th></tr><tr><th></th><th>Int64</th><th>String</th><th>Bool</th><th>Float16</th><th>Float16</th></tr></thead><tbody><p>0 rows × 5 columns</p></tbody></table>"
      ],
      "text/latex": [
       "\\begin{tabular}{r|ccccc}\n",
       "\t& I & ID & STATUS & GL & BL\\\\\n",
       "\t\\hline\n",
       "\t& Int64 & String & Bool & Float16 & Float16\\\\\n",
       "\t\\hline\n",
       "\\end{tabular}\n"
      ],
      "text/plain": [
       "0×5 DataFrame\n"
      ]
     },
     "execution_count": 9,
     "metadata": {},
     "output_type": "execute_result"
    }
   ],
   "source": [
    "# fixedBusShunt data\n",
    "first(mainData.fixedBusShunt, 5)"
   ]
  },
  {
   "cell_type": "code",
   "execution_count": 10,
   "metadata": {},
   "outputs": [
    {
     "data": {
      "text/html": [
       "<table class=\"data-frame\"><thead><tr><th></th><th>I</th><th>ID</th><th>PG</th><th>QG</th><th>QT</th><th>QB</th><th>VS</th><th>IREG</th><th>MBASE</th><th>ZR</th><th>ZX</th><th>RT</th><th>XT</th><th>GTAP</th><th>STAT</th><th>RMPCT</th><th>PT</th><th>PB</th><th>O1</th><th>F1</th><th>O2</th><th>F2</th><th>O3</th><th>F3</th><th>O4</th><th>F4</th><th>WMOD</th><th>WPF</th></tr><tr><th></th><th>Int64</th><th>String</th><th>Float16</th><th>Float16</th><th>Float16</th><th>Float16</th><th>Float16</th><th>Float16</th><th>Float16</th><th>Float16</th><th>Float16</th><th>Float16</th><th>Float16</th><th>Float16</th><th>Bool</th><th>Float16</th><th>Float16</th><th>Float16</th><th>Float16</th><th>Float16</th><th>Float16</th><th>Float16</th><th>Float16</th><th>Float16</th><th>Float16</th><th>Float16</th><th>Float16</th><th>Float16</th></tr></thead><tbody><p>5 rows × 28 columns</p><tr><th>1</th><td>9</td><td> '1'</td><td>243.9</td><td>-94.2</td><td>359.8</td><td>-94.2</td><td>1.04</td><td>0.0</td><td>0.0</td><td>0.0</td><td>1.0</td><td>0.0</td><td>0.0</td><td>1.0</td><td>true</td><td>1.0</td><td>772.0</td><td>231.5</td><td>1.0</td><td>1.0</td><td>0.0</td><td>1.0</td><td>0.0</td><td>1.0</td><td>0.0</td><td>1.0</td><td>0.0</td><td>1.0</td></tr><tr><th>2</th><td>16</td><td> '1'</td><td>0.0</td><td>0.0</td><td>163.5</td><td>-36.44</td><td>1.036</td><td>0.0</td><td>0.0</td><td>0.0</td><td>1.0</td><td>0.0</td><td>0.0</td><td>1.0</td><td>false</td><td>1.0</td><td>444.5</td><td>133.4</td><td>1.0</td><td>1.0</td><td>0.0</td><td>1.0</td><td>0.0</td><td>1.0</td><td>0.0</td><td>1.0</td><td>0.0</td><td>1.0</td></tr><tr><th>3</th><td>17</td><td> '1'</td><td>883.0</td><td>-72.9</td><td>327.0</td><td>-72.9</td><td>1.04</td><td>0.0</td><td>0.0</td><td>0.0</td><td>1.0</td><td>0.0</td><td>0.0</td><td>1.0</td><td>true</td><td>1.0</td><td>889.0</td><td>266.8</td><td>1.0</td><td>1.0</td><td>0.0</td><td>1.0</td><td>0.0</td><td>1.0</td><td>0.0</td><td>1.0</td><td>0.0</td><td>1.0</td></tr><tr><th>4</th><td>18</td><td> '1'</td><td>50.06</td><td>-12.92</td><td>58.0</td><td>-12.92</td><td>1.04</td><td>0.0</td><td>0.0</td><td>0.0</td><td>1.0</td><td>0.0</td><td>0.0</td><td>1.0</td><td>true</td><td>1.0</td><td>157.6</td><td>47.28</td><td>1.0</td><td>1.0</td><td>0.0</td><td>1.0</td><td>0.0</td><td>1.0</td><td>0.0</td><td>1.0</td><td>0.0</td><td>1.0</td></tr><tr><th>5</th><td>49</td><td> '1'</td><td>0.413</td><td>-0.16</td><td>0.61</td><td>-0.16</td><td>1.014</td><td>0.0</td><td>0.0</td><td>0.0</td><td>1.0</td><td>0.0</td><td>0.0</td><td>1.0</td><td>true</td><td>1.0</td><td>1.3</td><td>0.39</td><td>1.0</td><td>1.0</td><td>0.0</td><td>1.0</td><td>0.0</td><td>1.0</td><td>0.0</td><td>1.0</td><td>0.0</td><td>1.0</td></tr></tbody></table>"
      ],
      "text/latex": [
       "\\begin{tabular}{r|cccccccccccccccccccccccccccc}\n",
       "\t& I & ID & PG & QG & QT & QB & VS & IREG & MBASE & ZR & ZX & RT & XT & GTAP & STAT & RMPCT & PT & PB & O1 & F1 & O2 & F2 & O3 & F3 & O4 & F4 & WMOD & WPF\\\\\n",
       "\t\\hline\n",
       "\t& Int64 & String & Float16 & Float16 & Float16 & Float16 & Float16 & Float16 & Float16 & Float16 & Float16 & Float16 & Float16 & Float16 & Bool & Float16 & Float16 & Float16 & Float16 & Float16 & Float16 & Float16 & Float16 & Float16 & Float16 & Float16 & Float16 & Float16\\\\\n",
       "\t\\hline\n",
       "\t1 & 9 &  '1' & 243.9 & -94.2 & 359.8 & -94.2 & 1.04 & 0.0 & 0.0 & 0.0 & 1.0 & 0.0 & 0.0 & 1.0 & true & 1.0 & 772.0 & 231.5 & 1.0 & 1.0 & 0.0 & 1.0 & 0.0 & 1.0 & 0.0 & 1.0 & 0.0 & 1.0 \\\\\n",
       "\t2 & 16 &  '1' & 0.0 & 0.0 & 163.5 & -36.44 & 1.036 & 0.0 & 0.0 & 0.0 & 1.0 & 0.0 & 0.0 & 1.0 & false & 1.0 & 444.5 & 133.4 & 1.0 & 1.0 & 0.0 & 1.0 & 0.0 & 1.0 & 0.0 & 1.0 & 0.0 & 1.0 \\\\\n",
       "\t3 & 17 &  '1' & 883.0 & -72.9 & 327.0 & -72.9 & 1.04 & 0.0 & 0.0 & 0.0 & 1.0 & 0.0 & 0.0 & 1.0 & true & 1.0 & 889.0 & 266.8 & 1.0 & 1.0 & 0.0 & 1.0 & 0.0 & 1.0 & 0.0 & 1.0 & 0.0 & 1.0 \\\\\n",
       "\t4 & 18 &  '1' & 50.06 & -12.92 & 58.0 & -12.92 & 1.04 & 0.0 & 0.0 & 0.0 & 1.0 & 0.0 & 0.0 & 1.0 & true & 1.0 & 157.6 & 47.28 & 1.0 & 1.0 & 0.0 & 1.0 & 0.0 & 1.0 & 0.0 & 1.0 & 0.0 & 1.0 \\\\\n",
       "\t5 & 49 &  '1' & 0.413 & -0.16 & 0.61 & -0.16 & 1.014 & 0.0 & 0.0 & 0.0 & 1.0 & 0.0 & 0.0 & 1.0 & true & 1.0 & 1.3 & 0.39 & 1.0 & 1.0 & 0.0 & 1.0 & 0.0 & 1.0 & 0.0 & 1.0 & 0.0 & 1.0 \\\\\n",
       "\\end{tabular}\n"
      ],
      "text/plain": [
       "5×28 DataFrame. Omitted printing of 21 columns\n",
       "│ Row │ I     │ ID     │ PG      │ QG      │ QT      │ QB      │ VS      │\n",
       "│     │ \u001b[90mInt64\u001b[39m │ \u001b[90mString\u001b[39m │ \u001b[90mFloat16\u001b[39m │ \u001b[90mFloat16\u001b[39m │ \u001b[90mFloat16\u001b[39m │ \u001b[90mFloat16\u001b[39m │ \u001b[90mFloat16\u001b[39m │\n",
       "├─────┼───────┼────────┼─────────┼─────────┼─────────┼─────────┼─────────┤\n",
       "│ 1   │ 9     │  '1'   │ 243.9   │ -94.2   │ 359.8   │ -94.2   │ 1.04    │\n",
       "│ 2   │ 16    │  '1'   │ 0.0     │ 0.0     │ 163.5   │ -36.44  │ 1.036   │\n",
       "│ 3   │ 17    │  '1'   │ 883.0   │ -72.9   │ 327.0   │ -72.9   │ 1.04    │\n",
       "│ 4   │ 18    │  '1'   │ 50.06   │ -12.92  │ 58.0    │ -12.92  │ 1.04    │\n",
       "│ 5   │ 49    │  '1'   │ 0.413   │ -0.16   │ 0.61    │ -0.16   │ 1.014   │"
      ]
     },
     "execution_count": 10,
     "metadata": {},
     "output_type": "execute_result"
    }
   ],
   "source": [
    "# generator data\n",
    "first(mainData.generator, 5)"
   ]
  },
  {
   "cell_type": "code",
   "execution_count": 11,
   "metadata": {},
   "outputs": [
    {
     "data": {
      "text/html": [
       "<table class=\"data-frame\"><thead><tr><th></th><th>I</th><th>J</th><th>CKT</th><th>R</th><th>X</th><th>B</th><th>RATEA</th><th>RATEB</th><th>RATEC</th><th>GI</th><th>BI</th><th>GJ</th><th>BJ</th><th>ST</th><th>MET</th><th>LEN</th><th>O1</th><th>F1</th><th>O2</th><th>F2</th><th>O3</th><th>F3</th><th>O4</th><th>F4</th></tr><tr><th></th><th>Int64</th><th>Int64</th><th>String</th><th>Float16</th><th>Float16</th><th>Float16</th><th>Float16</th><th>Float16</th><th>Float16</th><th>Float16</th><th>Float16</th><th>Float16</th><th>Float16</th><th>Bool</th><th>Float16</th><th>Float16</th><th>Float16</th><th>Float16</th><th>Float16</th><th>Float16</th><th>Float16</th><th>Float16</th><th>Float16</th><th>Float16</th></tr></thead><tbody><p>5 rows × 24 columns</p><tr><th>1</th><td>2</td><td>1</td><td> '1'</td><td>0.000531</td><td>0.00314</td><td>0.0</td><td>76.5</td><td>76.5</td><td>76.5</td><td>0.0</td><td>0.0</td><td>0.0</td><td>0.0</td><td>true</td><td>1.0</td><td>0.0</td><td>1.0</td><td>1.0</td><td>0.0</td><td>1.0</td><td>0.0</td><td>1.0</td><td>0.0</td><td>1.0</td></tr><tr><th>2</th><td>44</td><td>1</td><td> '1'</td><td>0.005478</td><td>0.05026</td><td>0.0178</td><td>250.0</td><td>250.0</td><td>250.0</td><td>0.0</td><td>0.0</td><td>0.0</td><td>0.0</td><td>true</td><td>1.0</td><td>0.0</td><td>1.0</td><td>1.0</td><td>0.0</td><td>1.0</td><td>0.0</td><td>1.0</td><td>0.0</td><td>1.0</td></tr><tr><th>3</th><td>421</td><td>1</td><td> '1'</td><td>0.005367</td><td>0.05154</td><td>0.01665</td><td>200.0</td><td>200.0</td><td>200.0</td><td>0.0</td><td>0.0</td><td>0.0</td><td>0.0</td><td>true</td><td>1.0</td><td>0.0</td><td>1.0</td><td>1.0</td><td>0.0</td><td>1.0</td><td>0.0</td><td>1.0</td><td>0.0</td><td>1.0</td></tr><tr><th>4</th><td>4</td><td>3</td><td> '1'</td><td>0.000692</td><td>0.00352</td><td>0.0</td><td>225.1</td><td>225.1</td><td>225.1</td><td>0.0</td><td>0.0</td><td>0.0</td><td>0.0</td><td>true</td><td>1.0</td><td>0.0</td><td>1.0</td><td>1.0</td><td>0.0</td><td>1.0</td><td>0.0</td><td>1.0</td><td>0.0</td><td>1.0</td></tr><tr><th>5</th><td>62</td><td>3</td><td> '1'</td><td>0.002718</td><td>0.0261</td><td>0.00842</td><td>250.0</td><td>250.0</td><td>250.0</td><td>0.0</td><td>0.0</td><td>0.0</td><td>0.0</td><td>true</td><td>1.0</td><td>0.0</td><td>1.0</td><td>1.0</td><td>0.0</td><td>1.0</td><td>0.0</td><td>1.0</td><td>0.0</td><td>1.0</td></tr></tbody></table>"
      ],
      "text/latex": [
       "\\begin{tabular}{r|cccccccccccccccccccccccc}\n",
       "\t& I & J & CKT & R & X & B & RATEA & RATEB & RATEC & GI & BI & GJ & BJ & ST & MET & LEN & O1 & F1 & O2 & F2 & O3 & F3 & O4 & F4\\\\\n",
       "\t\\hline\n",
       "\t& Int64 & Int64 & String & Float16 & Float16 & Float16 & Float16 & Float16 & Float16 & Float16 & Float16 & Float16 & Float16 & Bool & Float16 & Float16 & Float16 & Float16 & Float16 & Float16 & Float16 & Float16 & Float16 & Float16\\\\\n",
       "\t\\hline\n",
       "\t1 & 2 & 1 &  '1' & 0.000531 & 0.00314 & 0.0 & 76.5 & 76.5 & 76.5 & 0.0 & 0.0 & 0.0 & 0.0 & true & 1.0 & 0.0 & 1.0 & 1.0 & 0.0 & 1.0 & 0.0 & 1.0 & 0.0 & 1.0 \\\\\n",
       "\t2 & 44 & 1 &  '1' & 0.005478 & 0.05026 & 0.0178 & 250.0 & 250.0 & 250.0 & 0.0 & 0.0 & 0.0 & 0.0 & true & 1.0 & 0.0 & 1.0 & 1.0 & 0.0 & 1.0 & 0.0 & 1.0 & 0.0 & 1.0 \\\\\n",
       "\t3 & 421 & 1 &  '1' & 0.005367 & 0.05154 & 0.01665 & 200.0 & 200.0 & 200.0 & 0.0 & 0.0 & 0.0 & 0.0 & true & 1.0 & 0.0 & 1.0 & 1.0 & 0.0 & 1.0 & 0.0 & 1.0 & 0.0 & 1.0 \\\\\n",
       "\t4 & 4 & 3 &  '1' & 0.000692 & 0.00352 & 0.0 & 225.1 & 225.1 & 225.1 & 0.0 & 0.0 & 0.0 & 0.0 & true & 1.0 & 0.0 & 1.0 & 1.0 & 0.0 & 1.0 & 0.0 & 1.0 & 0.0 & 1.0 \\\\\n",
       "\t5 & 62 & 3 &  '1' & 0.002718 & 0.0261 & 0.00842 & 250.0 & 250.0 & 250.0 & 0.0 & 0.0 & 0.0 & 0.0 & true & 1.0 & 0.0 & 1.0 & 1.0 & 0.0 & 1.0 & 0.0 & 1.0 & 0.0 & 1.0 \\\\\n",
       "\\end{tabular}\n"
      ],
      "text/plain": [
       "5×24 DataFrame. Omitted printing of 17 columns\n",
       "│ Row │ I     │ J     │ CKT    │ R        │ X       │ B       │ RATEA   │\n",
       "│     │ \u001b[90mInt64\u001b[39m │ \u001b[90mInt64\u001b[39m │ \u001b[90mString\u001b[39m │ \u001b[90mFloat16\u001b[39m  │ \u001b[90mFloat16\u001b[39m │ \u001b[90mFloat16\u001b[39m │ \u001b[90mFloat16\u001b[39m │\n",
       "├─────┼───────┼───────┼────────┼──────────┼─────────┼─────────┼─────────┤\n",
       "│ 1   │ 2     │ 1     │  '1'   │ 0.000531 │ 0.00314 │ 0.0     │ 76.5    │\n",
       "│ 2   │ 44    │ 1     │  '1'   │ 0.005478 │ 0.05026 │ 0.0178  │ 250.0   │\n",
       "│ 3   │ 421   │ 1     │  '1'   │ 0.005367 │ 0.05154 │ 0.01665 │ 200.0   │\n",
       "│ 4   │ 4     │ 3     │  '1'   │ 0.000692 │ 0.00352 │ 0.0     │ 225.1   │\n",
       "│ 5   │ 62    │ 3     │  '1'   │ 0.002718 │ 0.0261  │ 0.00842 │ 250.0   │"
      ]
     },
     "execution_count": 11,
     "metadata": {},
     "output_type": "execute_result"
    }
   ],
   "source": [
    "# line data\n",
    "first(mainData.line, 5)"
   ]
  },
  {
   "cell_type": "code",
   "execution_count": 12,
   "metadata": {},
   "outputs": [
    {
     "data": {
      "text/html": [
       "<table class=\"data-frame\"><thead><tr><th></th><th>I</th><th>J</th><th>K</th><th>CKT</th><th>CW</th><th>CZ</th><th>CM</th><th>MAG1</th><th>MAG2</th><th>NMETR</th><th>NAME</th><th>STAT</th><th>O1</th><th>F1</th><th>O2</th><th>F2</th><th>O3</th><th>F3</th><th>O4</th><th>F4</th><th>VECGRP</th><th>R12</th><th>X12</th><th>SBASE12</th><th>WINDV1</th><th>NOMV1</th><th>ANG1</th><th>RATA1</th><th>RATB1</th><th>RATC1</th><th>COD1</th><th>CONT1</th><th>RMA1</th><th>RMI1</th><th>VMA1</th><th>VMI1</th><th>NTP1</th><th>TAB1</th><th>CR1</th><th>CX1</th><th>CNXA1</th><th>WINDV2</th><th>NOMV2</th></tr><tr><th></th><th>Int64</th><th>Int64</th><th>Float16</th><th>String</th><th>Float16</th><th>Float16</th><th>Float16</th><th>Float16</th><th>Float16</th><th>Float16</th><th>String</th><th>Bool</th><th>Float16</th><th>Float16</th><th>Float16</th><th>Float16</th><th>Float16</th><th>Float16</th><th>Float16</th><th>Float16</th><th>String</th><th>Float16</th><th>Float16</th><th>Float16</th><th>Float16</th><th>Float16</th><th>Float16</th><th>Float16</th><th>Float16</th><th>Float16</th><th>Float16</th><th>Float16</th><th>Float16</th><th>Float16</th><th>Float16</th><th>Float16</th><th>Float16</th><th>Float16</th><th>Float16</th><th>Float16</th><th>Float16</th><th>Float16</th><th>Float16</th></tr></thead><tbody><p>5 rows × 43 columns</p><tr><th>1</th><td>8</td><td>7</td><td>0.0</td><td> '1'</td><td>1.0</td><td>1.0</td><td>1.0</td><td>0.0</td><td>0.0</td><td>2.0</td><td> ' '</td><td>true</td><td>1.0</td><td>1.0</td><td>0.0</td><td>1.0</td><td>0.0</td><td>1.0</td><td>0.0</td><td>1.0</td><td> ' '</td><td>0.000355</td><td>0.0129</td><td>567.0</td><td>1.0</td><td>138.0</td><td>0.0</td><td>567.0</td><td>567.0</td><td>567.0</td><td>0.0</td><td>0.0</td><td>1.5</td><td>0.51</td><td>1.5</td><td>0.51</td><td>159.0</td><td>0.0</td><td>0.0</td><td>0.0</td><td>0.0</td><td>1.0</td><td>345.0</td></tr><tr><th>2</th><td>9</td><td>7</td><td>0.0</td><td> '1'</td><td>1.0</td><td>1.0</td><td>1.0</td><td>0.0</td><td>0.0</td><td>2.0</td><td> ' '</td><td>true</td><td>1.0</td><td>1.0</td><td>0.0</td><td>1.0</td><td>0.0</td><td>1.0</td><td>0.0</td><td>1.0</td><td> ' '</td><td>0.00012</td><td>0.01362</td><td>900.0</td><td>1.0</td><td>13.8</td><td>0.0</td><td>900.0</td><td>900.0</td><td>900.0</td><td>0.0</td><td>0.0</td><td>1.5</td><td>0.51</td><td>1.5</td><td>0.51</td><td>159.0</td><td>0.0</td><td>0.0</td><td>0.0</td><td>0.0</td><td>1.0</td><td>345.0</td></tr><tr><th>3</th><td>9</td><td>7</td><td>0.0</td><td> '2'</td><td>1.0</td><td>1.0</td><td>1.0</td><td>0.0</td><td>0.0</td><td>2.0</td><td> ' '</td><td>true</td><td>1.0</td><td>1.0</td><td>0.0</td><td>1.0</td><td>0.0</td><td>1.0</td><td>0.0</td><td>1.0</td><td> ' '</td><td>0.00012</td><td>0.01362</td><td>900.0</td><td>1.0</td><td>13.8</td><td>0.0</td><td>900.0</td><td>900.0</td><td>900.0</td><td>0.0</td><td>0.0</td><td>1.5</td><td>0.51</td><td>1.5</td><td>0.51</td><td>159.0</td><td>0.0</td><td>0.0</td><td>0.0</td><td>0.0</td><td>1.0</td><td>345.0</td></tr><tr><th>4</th><td>15</td><td>14</td><td>0.0</td><td> '1'</td><td>1.0</td><td>1.0</td><td>1.0</td><td>0.0</td><td>0.0</td><td>2.0</td><td> ' '</td><td>true</td><td>1.0</td><td>1.0</td><td>0.0</td><td>1.0</td><td>0.0</td><td>1.0</td><td>0.0</td><td>1.0</td><td> ' '</td><td>0.0002079</td><td>0.01122</td><td>682.0</td><td>1.0</td><td>138.0</td><td>0.0</td><td>682.0</td><td>682.0</td><td>682.0</td><td>0.0</td><td>0.0</td><td>1.5</td><td>0.51</td><td>1.5</td><td>0.51</td><td>159.0</td><td>0.0</td><td>0.0</td><td>0.0</td><td>0.0</td><td>1.0</td><td>345.0</td></tr><tr><th>5</th><td>16</td><td>14</td><td>0.0</td><td> '1'</td><td>1.0</td><td>1.0</td><td>1.0</td><td>0.0</td><td>0.0</td><td>2.0</td><td> ' '</td><td>true</td><td>1.0</td><td>1.0</td><td>0.0</td><td>1.0</td><td>0.0</td><td>1.0</td><td>0.0</td><td>1.0</td><td> ' '</td><td>0.000326</td><td>0.01202</td><td>596.0</td><td>1.0</td><td>13.8</td><td>0.0</td><td>596.0</td><td>596.0</td><td>596.0</td><td>0.0</td><td>0.0</td><td>1.5</td><td>0.51</td><td>1.5</td><td>0.51</td><td>159.0</td><td>0.0</td><td>0.0</td><td>0.0</td><td>0.0</td><td>1.0</td><td>345.0</td></tr></tbody></table>"
      ],
      "text/latex": [
       "\\begin{tabular}{r|ccccccccccccccccccccccccccccccccccccccccccc}\n",
       "\t& I & J & K & CKT & CW & CZ & CM & MAG1 & MAG2 & NMETR & NAME & STAT & O1 & F1 & O2 & F2 & O3 & F3 & O4 & F4 & VECGRP & R12 & X12 & SBASE12 & WINDV1 & NOMV1 & ANG1 & RATA1 & RATB1 & RATC1 & COD1 & CONT1 & RMA1 & RMI1 & VMA1 & VMI1 & NTP1 & TAB1 & CR1 & CX1 & CNXA1 & WINDV2 & NOMV2\\\\\n",
       "\t\\hline\n",
       "\t& Int64 & Int64 & Float16 & String & Float16 & Float16 & Float16 & Float16 & Float16 & Float16 & String & Bool & Float16 & Float16 & Float16 & Float16 & Float16 & Float16 & Float16 & Float16 & String & Float16 & Float16 & Float16 & Float16 & Float16 & Float16 & Float16 & Float16 & Float16 & Float16 & Float16 & Float16 & Float16 & Float16 & Float16 & Float16 & Float16 & Float16 & Float16 & Float16 & Float16 & Float16\\\\\n",
       "\t\\hline\n",
       "\t1 & 8 & 7 & 0.0 &  '1' & 1.0 & 1.0 & 1.0 & 0.0 & 0.0 & 2.0 &  ' ' & true & 1.0 & 1.0 & 0.0 & 1.0 & 0.0 & 1.0 & 0.0 & 1.0 &  ' ' & 0.000355 & 0.0129 & 567.0 & 1.0 & 138.0 & 0.0 & 567.0 & 567.0 & 567.0 & 0.0 & 0.0 & 1.5 & 0.51 & 1.5 & 0.51 & 159.0 & 0.0 & 0.0 & 0.0 & 0.0 & 1.0 & 345.0 \\\\\n",
       "\t2 & 9 & 7 & 0.0 &  '1' & 1.0 & 1.0 & 1.0 & 0.0 & 0.0 & 2.0 &  ' ' & true & 1.0 & 1.0 & 0.0 & 1.0 & 0.0 & 1.0 & 0.0 & 1.0 &  ' ' & 0.00012 & 0.01362 & 900.0 & 1.0 & 13.8 & 0.0 & 900.0 & 900.0 & 900.0 & 0.0 & 0.0 & 1.5 & 0.51 & 1.5 & 0.51 & 159.0 & 0.0 & 0.0 & 0.0 & 0.0 & 1.0 & 345.0 \\\\\n",
       "\t3 & 9 & 7 & 0.0 &  '2' & 1.0 & 1.0 & 1.0 & 0.0 & 0.0 & 2.0 &  ' ' & true & 1.0 & 1.0 & 0.0 & 1.0 & 0.0 & 1.0 & 0.0 & 1.0 &  ' ' & 0.00012 & 0.01362 & 900.0 & 1.0 & 13.8 & 0.0 & 900.0 & 900.0 & 900.0 & 0.0 & 0.0 & 1.5 & 0.51 & 1.5 & 0.51 & 159.0 & 0.0 & 0.0 & 0.0 & 0.0 & 1.0 & 345.0 \\\\\n",
       "\t4 & 15 & 14 & 0.0 &  '1' & 1.0 & 1.0 & 1.0 & 0.0 & 0.0 & 2.0 &  ' ' & true & 1.0 & 1.0 & 0.0 & 1.0 & 0.0 & 1.0 & 0.0 & 1.0 &  ' ' & 0.0002079 & 0.01122 & 682.0 & 1.0 & 138.0 & 0.0 & 682.0 & 682.0 & 682.0 & 0.0 & 0.0 & 1.5 & 0.51 & 1.5 & 0.51 & 159.0 & 0.0 & 0.0 & 0.0 & 0.0 & 1.0 & 345.0 \\\\\n",
       "\t5 & 16 & 14 & 0.0 &  '1' & 1.0 & 1.0 & 1.0 & 0.0 & 0.0 & 2.0 &  ' ' & true & 1.0 & 1.0 & 0.0 & 1.0 & 0.0 & 1.0 & 0.0 & 1.0 &  ' ' & 0.000326 & 0.01202 & 596.0 & 1.0 & 13.8 & 0.0 & 596.0 & 596.0 & 596.0 & 0.0 & 0.0 & 1.5 & 0.51 & 1.5 & 0.51 & 159.0 & 0.0 & 0.0 & 0.0 & 0.0 & 1.0 & 345.0 \\\\\n",
       "\\end{tabular}\n"
      ],
      "text/plain": [
       "5×43 DataFrame. Omitted printing of 36 columns\n",
       "│ Row │ I     │ J     │ K       │ CKT    │ CW      │ CZ      │ CM      │\n",
       "│     │ \u001b[90mInt64\u001b[39m │ \u001b[90mInt64\u001b[39m │ \u001b[90mFloat16\u001b[39m │ \u001b[90mString\u001b[39m │ \u001b[90mFloat16\u001b[39m │ \u001b[90mFloat16\u001b[39m │ \u001b[90mFloat16\u001b[39m │\n",
       "├─────┼───────┼───────┼─────────┼────────┼─────────┼─────────┼─────────┤\n",
       "│ 1   │ 8     │ 7     │ 0.0     │  '1'   │ 1.0     │ 1.0     │ 1.0     │\n",
       "│ 2   │ 9     │ 7     │ 0.0     │  '1'   │ 1.0     │ 1.0     │ 1.0     │\n",
       "│ 3   │ 9     │ 7     │ 0.0     │  '2'   │ 1.0     │ 1.0     │ 1.0     │\n",
       "│ 4   │ 15    │ 14    │ 0.0     │  '1'   │ 1.0     │ 1.0     │ 1.0     │\n",
       "│ 5   │ 16    │ 14    │ 0.0     │  '1'   │ 1.0     │ 1.0     │ 1.0     │"
      ]
     },
     "execution_count": 12,
     "metadata": {},
     "output_type": "execute_result"
    }
   ],
   "source": [
    "# transformer data\n",
    "first(mainData.transformer, 5)"
   ]
  },
  {
   "cell_type": "code",
   "execution_count": 13,
   "metadata": {},
   "outputs": [
    {
     "data": {
      "text/html": [
       "<table class=\"data-frame\"><thead><tr><th></th><th>I</th><th>MODSW</th><th>ADJM</th><th>STAT</th><th>VSWHI</th><th>VSWLO</th><th>SWREM</th><th>RMPCT</th><th>RMIDNT</th><th>BINIT</th><th>N1</th><th>B1</th><th>N2</th><th>B2</th><th>N3</th><th>B3</th><th>N4</th><th>B4</th><th>N5</th><th>B5</th><th>N6</th><th>B6</th><th>N7</th><th>B7</th><th>N8</th><th>B8</th></tr><tr><th></th><th>Int64</th><th>Float16</th><th>Float16</th><th>Bool</th><th>Float16</th><th>Float16</th><th>Float16</th><th>Float16</th><th>String</th><th>Float16</th><th>Int64</th><th>Float16</th><th>Int64</th><th>Float16</th><th>Int64</th><th>Float16</th><th>Int64</th><th>Float16</th><th>Int64</th><th>Float16</th><th>Int64</th><th>Float16</th><th>Int64</th><th>Float16</th><th>Int64</th><th>Float16</th></tr></thead><tbody><p>5 rows × 26 columns</p><tr><th>1</th><td>27</td><td>2.0</td><td>0.0</td><td>false</td><td>1.016</td><td>1.016</td><td>0.0</td><td>100.0</td><td> ' '</td><td>0.0</td><td>1</td><td>80.0</td><td>0</td><td>0.0</td><td>0</td><td>0.0</td><td>0</td><td>0.0</td><td>0</td><td>0.0</td><td>0</td><td>0.0</td><td>0</td><td>0.0</td><td>0</td><td>0.0</td></tr><tr><th>2</th><td>31</td><td>2.0</td><td>0.0</td><td>false</td><td>1.035</td><td>1.035</td><td>0.0</td><td>100.0</td><td> ' '</td><td>0.0</td><td>1</td><td>100.0</td><td>0</td><td>0.0</td><td>0</td><td>0.0</td><td>0</td><td>0.0</td><td>0</td><td>0.0</td><td>0</td><td>0.0</td><td>0</td><td>0.0</td><td>0</td><td>0.0</td></tr><tr><th>3</th><td>110</td><td>2.0</td><td>0.0</td><td>false</td><td>1.023</td><td>1.023</td><td>0.0</td><td>100.0</td><td> ' '</td><td>0.0</td><td>1</td><td>50.0</td><td>0</td><td>0.0</td><td>0</td><td>0.0</td><td>0</td><td>0.0</td><td>0</td><td>0.0</td><td>0</td><td>0.0</td><td>0</td><td>0.0</td><td>0</td><td>0.0</td></tr><tr><th>4</th><td>129</td><td>2.0</td><td>0.0</td><td>true</td><td>1.015</td><td>1.015</td><td>0.0</td><td>100.0</td><td> ' '</td><td>0.0</td><td>1</td><td>60.0</td><td>0</td><td>0.0</td><td>0</td><td>0.0</td><td>0</td><td>0.0</td><td>0</td><td>0.0</td><td>0</td><td>0.0</td><td>0</td><td>0.0</td><td>0</td><td>0.0</td></tr><tr><th>5</th><td>141</td><td>2.0</td><td>0.0</td><td>true</td><td>1.016</td><td>1.016</td><td>0.0</td><td>100.0</td><td> ' '</td><td>0.0</td><td>1</td><td>50.0</td><td>0</td><td>0.0</td><td>0</td><td>0.0</td><td>0</td><td>0.0</td><td>0</td><td>0.0</td><td>0</td><td>0.0</td><td>0</td><td>0.0</td><td>0</td><td>0.0</td></tr></tbody></table>"
      ],
      "text/latex": [
       "\\begin{tabular}{r|cccccccccccccccccccccccccc}\n",
       "\t& I & MODSW & ADJM & STAT & VSWHI & VSWLO & SWREM & RMPCT & RMIDNT & BINIT & N1 & B1 & N2 & B2 & N3 & B3 & N4 & B4 & N5 & B5 & N6 & B6 & N7 & B7 & N8 & B8\\\\\n",
       "\t\\hline\n",
       "\t& Int64 & Float16 & Float16 & Bool & Float16 & Float16 & Float16 & Float16 & String & Float16 & Int64 & Float16 & Int64 & Float16 & Int64 & Float16 & Int64 & Float16 & Int64 & Float16 & Int64 & Float16 & Int64 & Float16 & Int64 & Float16\\\\\n",
       "\t\\hline\n",
       "\t1 & 27 & 2.0 & 0.0 & false & 1.016 & 1.016 & 0.0 & 100.0 &  ' ' & 0.0 & 1 & 80.0 & 0 & 0.0 & 0 & 0.0 & 0 & 0.0 & 0 & 0.0 & 0 & 0.0 & 0 & 0.0 & 0 & 0.0 \\\\\n",
       "\t2 & 31 & 2.0 & 0.0 & false & 1.035 & 1.035 & 0.0 & 100.0 &  ' ' & 0.0 & 1 & 100.0 & 0 & 0.0 & 0 & 0.0 & 0 & 0.0 & 0 & 0.0 & 0 & 0.0 & 0 & 0.0 & 0 & 0.0 \\\\\n",
       "\t3 & 110 & 2.0 & 0.0 & false & 1.023 & 1.023 & 0.0 & 100.0 &  ' ' & 0.0 & 1 & 50.0 & 0 & 0.0 & 0 & 0.0 & 0 & 0.0 & 0 & 0.0 & 0 & 0.0 & 0 & 0.0 & 0 & 0.0 \\\\\n",
       "\t4 & 129 & 2.0 & 0.0 & true & 1.015 & 1.015 & 0.0 & 100.0 &  ' ' & 0.0 & 1 & 60.0 & 0 & 0.0 & 0 & 0.0 & 0 & 0.0 & 0 & 0.0 & 0 & 0.0 & 0 & 0.0 & 0 & 0.0 \\\\\n",
       "\t5 & 141 & 2.0 & 0.0 & true & 1.016 & 1.016 & 0.0 & 100.0 &  ' ' & 0.0 & 1 & 50.0 & 0 & 0.0 & 0 & 0.0 & 0 & 0.0 & 0 & 0.0 & 0 & 0.0 & 0 & 0.0 & 0 & 0.0 \\\\\n",
       "\\end{tabular}\n"
      ],
      "text/plain": [
       "5×26 DataFrame. Omitted printing of 19 columns\n",
       "│ Row │ I     │ MODSW   │ ADJM    │ STAT  │ VSWHI   │ VSWLO   │ SWREM   │\n",
       "│     │ \u001b[90mInt64\u001b[39m │ \u001b[90mFloat16\u001b[39m │ \u001b[90mFloat16\u001b[39m │ \u001b[90mBool\u001b[39m  │ \u001b[90mFloat16\u001b[39m │ \u001b[90mFloat16\u001b[39m │ \u001b[90mFloat16\u001b[39m │\n",
       "├─────┼───────┼─────────┼─────────┼───────┼─────────┼─────────┼─────────┤\n",
       "│ 1   │ 27    │ 2.0     │ 0.0     │ false │ 1.016   │ 1.016   │ 0.0     │\n",
       "│ 2   │ 31    │ 2.0     │ 0.0     │ false │ 1.035   │ 1.035   │ 0.0     │\n",
       "│ 3   │ 110   │ 2.0     │ 0.0     │ false │ 1.023   │ 1.023   │ 0.0     │\n",
       "│ 4   │ 129   │ 2.0     │ 0.0     │ true  │ 1.015   │ 1.015   │ 0.0     │\n",
       "│ 5   │ 141   │ 2.0     │ 0.0     │ true  │ 1.016   │ 1.016   │ 0.0     │"
      ]
     },
     "execution_count": 13,
     "metadata": {},
     "output_type": "execute_result"
    }
   ],
   "source": [
    "# switchedShunt data\n",
    "first(mainData.switchedShunt, 5)"
   ]
  },
  {
   "cell_type": "markdown",
   "metadata": {},
   "source": [
    "## costs\n",
    "\n",
    "### variable costsData"
   ]
  },
  {
   "cell_type": "code",
   "execution_count": 14,
   "metadata": {},
   "outputs": [
    {
     "data": {
      "text/html": [
       "<table class=\"data-frame\"><thead><tr><th></th><th>BUS</th><th>GENID</th><th>DISP</th><th>TBL</th></tr><tr><th></th><th>Int64</th><th>Int64</th><th>Float16</th><th>Int64</th></tr></thead><tbody><p>5 rows × 4 columns</p><tr><th>1</th><td>9</td><td>1</td><td>0.0</td><td>1</td></tr><tr><th>2</th><td>16</td><td>1</td><td>0.0</td><td>2</td></tr><tr><th>3</th><td>17</td><td>1</td><td>0.0</td><td>3</td></tr><tr><th>4</th><td>18</td><td>1</td><td>0.0</td><td>4</td></tr><tr><th>5</th><td>49</td><td>1</td><td>0.0</td><td>5</td></tr></tbody></table>"
      ],
      "text/latex": [
       "\\begin{tabular}{r|cccc}\n",
       "\t& BUS & GENID & DISP & TBL\\\\\n",
       "\t\\hline\n",
       "\t& Int64 & Int64 & Float16 & Int64\\\\\n",
       "\t\\hline\n",
       "\t1 & 9 & 1 & 0.0 & 1 \\\\\n",
       "\t2 & 16 & 1 & 0.0 & 2 \\\\\n",
       "\t3 & 17 & 1 & 0.0 & 3 \\\\\n",
       "\t4 & 18 & 1 & 0.0 & 4 \\\\\n",
       "\t5 & 49 & 1 & 0.0 & 5 \\\\\n",
       "\\end{tabular}\n"
      ],
      "text/plain": [
       "5×4 DataFrame\n",
       "│ Row │ BUS   │ GENID │ DISP    │ TBL   │\n",
       "│     │ \u001b[90mInt64\u001b[39m │ \u001b[90mInt64\u001b[39m │ \u001b[90mFloat16\u001b[39m │ \u001b[90mInt64\u001b[39m │\n",
       "├─────┼───────┼───────┼─────────┼───────┤\n",
       "│ 1   │ 9     │ 1     │ 0.0     │ 1     │\n",
       "│ 2   │ 16    │ 1     │ 0.0     │ 2     │\n",
       "│ 3   │ 17    │ 1     │ 0.0     │ 3     │\n",
       "│ 4   │ 18    │ 1     │ 0.0     │ 4     │\n",
       "│ 5   │ 49    │ 1     │ 0.0     │ 5     │"
      ]
     },
     "execution_count": 14,
     "metadata": {},
     "output_type": "execute_result"
    }
   ],
   "source": [
    "# generator dispatch\n",
    "first(costsData.genDispatch, 5)"
   ]
  },
  {
   "cell_type": "code",
   "execution_count": 15,
   "metadata": {},
   "outputs": [
    {
     "data": {
      "text/html": [
       "<table class=\"data-frame\"><thead><tr><th></th><th>TBL</th><th>PMAX</th><th>PMIN</th><th>FUELCOST</th><th>CTYP</th><th>STATUS</th><th>CTBL</th></tr><tr><th></th><th>Int64</th><th>Float16</th><th>Float16</th><th>Float16</th><th>Float16</th><th>Float16</th><th>Int64</th></tr></thead><tbody><p>5 rows × 7 columns</p><tr><th>1</th><td>1</td><td>772.0</td><td>231.5</td><td>1.0</td><td>2.0</td><td>0.0</td><td>1</td></tr><tr><th>2</th><td>2</td><td>444.5</td><td>133.4</td><td>1.0</td><td>2.0</td><td>0.0</td><td>2</td></tr><tr><th>3</th><td>3</td><td>889.0</td><td>266.8</td><td>1.0</td><td>2.0</td><td>0.0</td><td>3</td></tr><tr><th>4</th><td>4</td><td>157.6</td><td>47.28</td><td>1.0</td><td>2.0</td><td>0.0</td><td>4</td></tr><tr><th>5</th><td>5</td><td>1.3</td><td>0.39</td><td>1.0</td><td>2.0</td><td>0.0</td><td>5</td></tr></tbody></table>"
      ],
      "text/latex": [
       "\\begin{tabular}{r|ccccccc}\n",
       "\t& TBL & PMAX & PMIN & FUELCOST & CTYP & STATUS & CTBL\\\\\n",
       "\t\\hline\n",
       "\t& Int64 & Float16 & Float16 & Float16 & Float16 & Float16 & Int64\\\\\n",
       "\t\\hline\n",
       "\t1 & 1 & 772.0 & 231.5 & 1.0 & 2.0 & 0.0 & 1 \\\\\n",
       "\t2 & 2 & 444.5 & 133.4 & 1.0 & 2.0 & 0.0 & 2 \\\\\n",
       "\t3 & 3 & 889.0 & 266.8 & 1.0 & 2.0 & 0.0 & 3 \\\\\n",
       "\t4 & 4 & 157.6 & 47.28 & 1.0 & 2.0 & 0.0 & 4 \\\\\n",
       "\t5 & 5 & 1.3 & 0.39 & 1.0 & 2.0 & 0.0 & 5 \\\\\n",
       "\\end{tabular}\n"
      ],
      "text/plain": [
       "5×7 DataFrame\n",
       "│ Row │ TBL   │ PMAX    │ PMIN    │ FUELCOST │ CTYP    │ STATUS  │ CTBL  │\n",
       "│     │ \u001b[90mInt64\u001b[39m │ \u001b[90mFloat16\u001b[39m │ \u001b[90mFloat16\u001b[39m │ \u001b[90mFloat16\u001b[39m  │ \u001b[90mFloat16\u001b[39m │ \u001b[90mFloat16\u001b[39m │ \u001b[90mInt64\u001b[39m │\n",
       "├─────┼───────┼─────────┼─────────┼──────────┼─────────┼─────────┼───────┤\n",
       "│ 1   │ 1     │ 772.0   │ 231.5   │ 1.0      │ 2.0     │ 0.0     │ 1     │\n",
       "│ 2   │ 2     │ 444.5   │ 133.4   │ 1.0      │ 2.0     │ 0.0     │ 2     │\n",
       "│ 3   │ 3     │ 889.0   │ 266.8   │ 1.0      │ 2.0     │ 0.0     │ 3     │\n",
       "│ 4   │ 4     │ 157.6   │ 47.28   │ 1.0      │ 2.0     │ 0.0     │ 4     │\n",
       "│ 5   │ 5     │ 1.3     │ 0.39    │ 1.0      │ 2.0     │ 0.0     │ 5     │"
      ]
     },
     "execution_count": 15,
     "metadata": {},
     "output_type": "execute_result"
    }
   ],
   "source": [
    "# active dispatch\n",
    "first(costsData.activeDispatch, 5)"
   ]
  },
  {
   "cell_type": "code",
   "execution_count": 16,
   "metadata": {},
   "outputs": [
    {
     "data": {
      "text/html": [
       "<table class=\"data-frame\"><thead><tr><th></th><th>CTBL</th><th>LABEL</th><th>NPAIRS</th><th>XYmatrix</th></tr><tr><th></th><th>Int64</th><th>String</th><th>Int64</th><th>Array…</th></tr></thead><tbody><p>3 rows × 4 columns</p><tr><th>1</th><td>1</td><td>    'Linear   1' </td><td>6</td><td>[0.0 0.0; 339.592 6840.15; 447.644 9063.26; 555.696 11333.1; 663.748 13649.6; 771.8 16012.8]</td></tr><tr><th>2</th><td>2</td><td>    'Linear   2' </td><td>6</td><td>[0.0 0.0; 195.558 1161.37; 257.781 1532.58; 320.004 1905.49; 382.227 2280.09; 444.45 2656.38]</td></tr><tr><th>3</th><td>3</td><td>    'Linear   3' </td><td>6</td><td>[0.0 0.0; 391.116 3337.05; 515.562 4404.48; 640.008 5477.54; 764.454 6556.23; 888.9 7640.55]</td></tr></tbody></table>"
      ],
      "text/latex": [
       "\\begin{tabular}{r|cccc}\n",
       "\t& CTBL & LABEL & NPAIRS & XYmatrix\\\\\n",
       "\t\\hline\n",
       "\t& Int64 & String & Int64 & Array…\\\\\n",
       "\t\\hline\n",
       "\t1 & 1 &     'Linear   1'  & 6 & [0.0 0.0; 339.592 6840.15; 447.644 9063.26; 555.696 11333.1; 663.748 13649.6; 771.8 16012.8] \\\\\n",
       "\t2 & 2 &     'Linear   2'  & 6 & [0.0 0.0; 195.558 1161.37; 257.781 1532.58; 320.004 1905.49; 382.227 2280.09; 444.45 2656.38] \\\\\n",
       "\t3 & 3 &     'Linear   3'  & 6 & [0.0 0.0; 391.116 3337.05; 515.562 4404.48; 640.008 5477.54; 764.454 6556.23; 888.9 7640.55] \\\\\n",
       "\\end{tabular}\n"
      ],
      "text/plain": [
       "3×4 DataFrame. Omitted printing of 1 columns\n",
       "│ Row │ CTBL  │ LABEL             │ NPAIRS │\n",
       "│     │ \u001b[90mInt64\u001b[39m │ \u001b[90mString\u001b[39m            │ \u001b[90mInt64\u001b[39m  │\n",
       "├─────┼───────┼───────────────────┼────────┤\n",
       "│ 1   │ 1     │     'Linear   1'  │ 6      │\n",
       "│ 2   │ 2     │     'Linear   2'  │ 6      │\n",
       "│ 3   │ 3     │     'Linear   3'  │ 6      │"
      ]
     },
     "execution_count": 16,
     "metadata": {},
     "output_type": "execute_result"
    }
   ],
   "source": [
    "# linear costs\n",
    "first(costsData.linearCurve, 3)"
   ]
  },
  {
   "cell_type": "code",
   "execution_count": 17,
   "metadata": {},
   "outputs": [
    {
     "data": {
      "text/plain": [
       "6×2 Array{Float64,2}:\n",
       "   0.0        0.0 \n",
       " 339.592   6840.15\n",
       " 447.644   9063.26\n",
       " 555.696  11333.1 \n",
       " 663.748  13649.6 \n",
       " 771.8    16012.8 "
      ]
     },
     "execution_count": 17,
     "metadata": {},
     "output_type": "execute_result"
    }
   ],
   "source": [
    "# costs linear curve for the first row\n",
    "costsData.linearCurve[:XYmatrix][1]"
   ]
  },
  {
   "cell_type": "markdown",
   "metadata": {},
   "source": [
    "## contingencies \n",
    "\n",
    "### variable continData "
   ]
  },
  {
   "cell_type": "code",
   "execution_count": 18,
   "metadata": {},
   "outputs": [
    {
     "name": "stdout",
     "output_type": "stream",
     "text": [
      "first 5 generators to shut down: \n",
      "Any[\"9\", \"17\", \"18\", \"49\", \"50\"]\n",
      "==================\n",
      "first 5 lines to open: \n",
      "Any[(3, 479), (7, 232), (7, 262), (8, 287), (8, 457)]\n"
     ]
    }
   ],
   "source": [
    "# generators \n",
    "k = 5;\n",
    "println(\"first $k generators to shut down: \")\n",
    "println(continData.genCont[1:k])\n",
    "println(\"==================\")\n",
    "# lines \n",
    "println(\"first $k lines to open: \")\n",
    "println(continData.lineCont[1:k])"
   ]
  },
  {
   "cell_type": "markdown",
   "metadata": {},
   "source": [
    "### response\n",
    "\n",
    "Responses are parsed directly into the Power Network structure"
   ]
  },
  {
   "cell_type": "markdown",
   "metadata": {},
   "source": [
    "## Power Network Structure \n",
    "\n",
    "### variable PN"
   ]
  },
  {
   "cell_type": "code",
   "execution_count": 19,
   "metadata": {},
   "outputs": [
    {
     "name": "stdout",
     "output_type": "stream",
     "text": [
      "PN has following fields:\n",
      "(:s, :caliI, :caliA, :BusList, :LoadList, :fShuntList, :caliG, :G, :GeneratorList, :gen_ind_I, :Eps, :E, :LineList, :caliF, :F, :TransformerList, :sShuntList, :get_shunt_index)\n"
     ]
    }
   ],
   "source": [
    "println(\"PN has following fields:\")\n",
    "println(propertynames(PN))\n",
    "\n",
    "# getfield(PN, :s)"
   ]
  },
  {
   "cell_type": "code",
   "execution_count": 20,
   "metadata": {},
   "outputs": [
    {
     "name": "stdout",
     "output_type": "stream",
     "text": [
      "Each Bus has following fields, i.e. parameters of a bus in the network:\n",
      "(:i, :a, :v0, :theta0, :v_max, :v_min, :vK_max, :vK_min)\n",
      "Bus(1, 1, 1.0206353, -94.784709, 1.1, 0.9, 1.1, 0.9)\n"
     ]
    }
   ],
   "source": [
    "# Bus \n",
    "println(\"Each Bus has following fields, i.e. parameters of a bus in the network:\")\n",
    "println(propertynames(PN.BusList[1]))\n",
    "println(PN.BusList[1])"
   ]
  },
  {
   "cell_type": "code",
   "execution_count": 21,
   "metadata": {},
   "outputs": [
    {
     "name": "stdout",
     "output_type": "stream",
     "text": [
      "Each Load has following fields, i.e. parameters of a bus in the network:\n",
      "(:pL, :qL)\n",
      "Load(0.27292, 0.07278)\n"
     ]
    }
   ],
   "source": [
    "# Load \n",
    "println(\"Each Load has following fields, i.e. parameters of a bus in the network:\")\n",
    "println(propertynames(PN.LoadList[1]))\n",
    "println(PN.LoadList[1])"
   ]
  },
  {
   "cell_type": "code",
   "execution_count": 22,
   "metadata": {},
   "outputs": [
    {
     "name": "stdout",
     "output_type": "stream",
     "text": [
      "Each Fixed Shunt has following fields, i.e. parameters of a bus in the network:\n"
     ]
    },
    {
     "ename": "UndefRefError",
     "evalue": "UndefRefError: access to undefined reference",
     "output_type": "error",
     "traceback": [
      "UndefRefError: access to undefined reference",
      "",
      "Stacktrace:",
      " [1] getproperty(::Any, ::Symbol) at ./sysimg.jl:18",
      " [2] top-level scope at In[22]:4"
     ]
    }
   ],
   "source": [
    "# fixed shunt\n",
    "# IS NOT IN CHALLENGE 1 \n",
    "println(\"Each Fixed Shunt has following fields, i.e. parameters of a bus in the network:\")\n",
    "println(propertynames(PN.fShuntList[1]))\n",
    "println(PN.fShuntList[1])"
   ]
  },
  {
   "cell_type": "code",
   "execution_count": 23,
   "metadata": {},
   "outputs": [
    {
     "name": "stdout",
     "output_type": "stream",
     "text": [
      "Each Generator has following fields, i.e. parameters of a bus in the network:\n",
      "(:i, :id, :g, :p0, :q0, :q_max, :q_min, :p_max, :p_min, :stat, :p, :c, :N, :alpha)\n",
      "Generator(9, 1, (9, 1), 2.4392062, -0.9416, 3.5966000000000005, -0.9416, 7.718, 2.3154, true, [0.0, 3.39592, 4.47644, 5.55696, 6.63748, 7.718], [0.0, 68.4015, 90.6326, 113.331, 136.496, 160.128], 6, 700.0)\n"
     ]
    }
   ],
   "source": [
    "# generator \n",
    "println(\"Each Generator has following fields, i.e. parameters of a bus in the network:\")\n",
    "println(propertynames(PN.GeneratorList[1]))\n",
    "println(PN.GeneratorList[1])"
   ]
  },
  {
   "cell_type": "code",
   "execution_count": 24,
   "metadata": {},
   "outputs": [
    {
     "name": "stdout",
     "output_type": "stream",
     "text": [
      "Linear costs of generator 1 are represented with piecewise function of 6 segments and are:\n",
      "price: [0.0, 3.39592, 4.47644, 5.55696, 6.63748, 7.718]\n",
      "value: [0.0, 68.4015, 90.6326, 113.331, 136.496, 160.128]\n"
     ]
    }
   ],
   "source": [
    "# costs and response of a generator \n",
    "i = 1\n",
    "println(\"Linear costs of generator $i are represented with piecewise function of $(PN.GeneratorList[i].N) segments and are:\") \n",
    "println(\"price: \", PN.GeneratorList[i].p)\n",
    "println(\"value: \", PN.GeneratorList[i].c)"
   ]
  },
  {
   "cell_type": "code",
   "execution_count": 25,
   "metadata": {},
   "outputs": [
    {
     "name": "stdout",
     "output_type": "stream",
     "text": [
      "Each Line has following fields, i.e. parameters of a bus in the network:\n",
      "(:iO, :iD, :id, :e, :g, :b, :bCH, :R_max, :RK_max, :st)\n",
      "Line(2, 1, 1, (2, 1, 1), 52.36852825091805, 309.6470589609324, 0.0, 0.765, 0.765, true)\n"
     ]
    }
   ],
   "source": [
    "# Line \n",
    "println(\"Each Line has following fields, i.e. parameters of a bus in the network:\")\n",
    "println(propertynames(PN.LineList[1]))\n",
    "println(PN.LineList[1])"
   ]
  },
  {
   "cell_type": "code",
   "execution_count": 26,
   "metadata": {},
   "outputs": [
    {
     "name": "stdout",
     "output_type": "stream",
     "text": [
      "Each Transformer has following fields, i.e. parameters of a bus in the network:\n",
      "(:iO, :iD, :id, :f, :gM, :bM, :g, :b, :tau, :theta, :s_max, :sK_max, :st)\n",
      "Transformer(8, 7, 1, (8, 7, 1), 0.0, 0.0, 2.13204263845788, 77.46069710672123, 1.0, 0.0, 5.671875, 5.671875, true)\n"
     ]
    }
   ],
   "source": [
    "# Transformer\n",
    "println(\"Each Transformer has following fields, i.e. parameters of a bus in the network:\")\n",
    "println(propertynames(PN.TransformerList[1]))\n",
    "println(PN.TransformerList[1])"
   ]
  },
  {
   "cell_type": "code",
   "execution_count": 27,
   "metadata": {},
   "outputs": [
    {
     "name": "stdout",
     "output_type": "stream",
     "text": [
      "Each Switched Shunt has following fields, i.e. parameters of a bus in the network:\n",
      "(:i, :bCS0, :bCS_max, :bCS_min, :stat)\n",
      "SwitchedShunt(27, 2.304083764e-314, 0.0, 0.0, false)\n"
     ]
    }
   ],
   "source": [
    "# switched shunt \n",
    "println(\"Each Switched Shunt has following fields, i.e. parameters of a bus in the network:\")\n",
    "println(propertynames(PN.sShuntList[1]))\n",
    "println(PN.sShuntList[1])"
   ]
  }
 ],
 "metadata": {
  "kernelspec": {
   "display_name": "Julia 1.1.0",
   "language": "julia",
   "name": "julia-1.1"
  },
  "language_info": {
   "file_extension": ".jl",
   "mimetype": "application/julia",
   "name": "julia",
   "version": "1.1.0"
  }
 },
 "nbformat": 4,
 "nbformat_minor": 2
}
